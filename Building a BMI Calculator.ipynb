{
 "cells": [
  {
   "cell_type": "code",
   "execution_count": 1,
   "metadata": {},
   "outputs": [
    {
     "name": "stdout",
     "output_type": "stream",
     "text": [
      "Your BMI is:  21.6712580348944\n",
      "Ankit, You are Normal weight\n"
     ]
    }
   ],
   "source": [
    "Name = input(\"Enter your name: \")\n",
    "Weight = float(input(\"Enter your weight: \"))\n",
    "Height_cm = float(input(\"Enter your height: \"))\n",
    "Height = Height_cm / 100\n",
    "BMI = Weight / (Height ** 2)\n",
    "print(\"Your BMI is: \", BMI)\n",
    "\n",
    "\n",
    "if BMI>0:\n",
    "    if (BMI<18.5):\n",
    "        print(Name +\", You are Underweight\")\n",
    "    elif (BMI<24.9):\n",
    "        print(Name +\", You are Normal weight\")\n",
    "    elif (BMI<29.9):\n",
    "        print(Name +\", You are Overweight\")\n",
    "    else:\n",
    "        print(Name +\", You are Obesity\")"
   ]
  },
  {
   "cell_type": "code",
   "execution_count": null,
   "metadata": {},
   "outputs": [],
   "source": []
  },
  {
   "cell_type": "code",
   "execution_count": null,
   "metadata": {},
   "outputs": [],
   "source": []
  }
 ],
 "metadata": {
  "kernelspec": {
   "display_name": "Python 3",
   "language": "python",
   "name": "python3"
  },
  "language_info": {
   "codemirror_mode": {
    "name": "ipython",
    "version": 3
   },
   "file_extension": ".py",
   "mimetype": "text/x-python",
   "name": "python",
   "nbconvert_exporter": "python",
   "pygments_lexer": "ipython3",
   "version": "3.13.2"
  }
 },
 "nbformat": 4,
 "nbformat_minor": 2
}
